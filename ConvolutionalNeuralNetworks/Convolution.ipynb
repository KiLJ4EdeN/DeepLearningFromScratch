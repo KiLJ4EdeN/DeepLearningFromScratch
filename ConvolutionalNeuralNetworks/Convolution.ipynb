{
  "nbformat": 4,
  "nbformat_minor": 0,
  "metadata": {
    "colab": {
      "name": "Convolution.ipynb",
      "provenance": []
    },
    "kernelspec": {
      "name": "python3",
      "display_name": "Python 3"
    }
  },
  "cells": [
    {
      "cell_type": "code",
      "metadata": {
        "id": "UbR2uXCzLpKh"
      },
      "source": [
        "!pip install mxnet gluon d2l"
      ],
      "execution_count": null,
      "outputs": []
    },
    {
      "cell_type": "code",
      "metadata": {
        "id": "Cxc55iHJLxT2"
      },
      "source": [
        "from d2l import mxnet as d2l\n",
        "from mxnet import autograd, np, npx\n",
        "from mxnet.gluon import nn\n",
        "npx.set_np()"
      ],
      "execution_count": 2,
      "outputs": []
    },
    {
      "cell_type": "code",
      "metadata": {
        "id": "xUPDQyTXL985"
      },
      "source": [
        "def corr2d(X, K): #@save\n",
        "  \"\"\"Compute 2D cross-correlation.\"\"\"\n",
        "  h, w = K.shape\n",
        "  # Compute output shape\n",
        "  Y = np.zeros((X.shape[0] - h + 1, X.shape[1] - w + 1))\n",
        "  # loop over X and Y axes.\n",
        "  for i in range(Y.shape[0]):\n",
        "    for j in range(Y.shape[1]):\n",
        "      Y[i, j] = d2l.reduce_sum((X[i: i + h, j: j + w] * K))\n",
        "  return Y"
      ],
      "execution_count": 3,
      "outputs": []
    },
    {
      "cell_type": "code",
      "metadata": {
        "id": "sOWJ6ndjMLST",
        "outputId": "ec557b7f-d4ef-42cf-8785-1d7d894c8324",
        "colab": {
          "base_uri": "https://localhost:8080/",
          "height": 52
        }
      },
      "source": [
        "X = np.array([[0.0, 1.0, 2.0],\n",
        "              [3.0, 4.0, 5.0],\n",
        "              [6.0, 7.0, 8.0]])\n",
        "K = np.array([[0.0, 1.0],\n",
        "              [2.0, 3.0]])\n",
        "corr2d(X, K)"
      ],
      "execution_count": 4,
      "outputs": [
        {
          "output_type": "execute_result",
          "data": {
            "text/plain": [
              "array([[19., 25.],\n",
              "       [37., 43.]])"
            ]
          },
          "metadata": {
            "tags": []
          },
          "execution_count": 4
        }
      ]
    },
    {
      "cell_type": "code",
      "metadata": {
        "id": "RDL0TB5VMYCH"
      },
      "source": [
        "class Conv2D(nn.Block):\n",
        "  def __init__(self, kernel_size, **kwargs):\n",
        "    super().__init__(**kwargs)\n",
        "    self.weight = self.params.get('weight', shape=kernel_size)\n",
        "    self.bias = self.params.get('bias', shape=(1,))\n",
        "  def forward(self, x):\n",
        "    return corr2d(x, self.weight.data()) + self.bias.data()"
      ],
      "execution_count": 5,
      "outputs": []
    },
    {
      "cell_type": "code",
      "metadata": {
        "id": "ewjdR0MiMlt4",
        "outputId": "645a6abc-19a4-4e24-ba55-ec3f19cb8e6a",
        "colab": {
          "base_uri": "https://localhost:8080/",
          "height": 121
        }
      },
      "source": [
        "# Edge Detection\n",
        "X = np.ones((6, 8))\n",
        "X[:, 2:6] = 0\n",
        "X"
      ],
      "execution_count": 6,
      "outputs": [
        {
          "output_type": "execute_result",
          "data": {
            "text/plain": [
              "array([[1., 1., 0., 0., 0., 0., 1., 1.],\n",
              "       [1., 1., 0., 0., 0., 0., 1., 1.],\n",
              "       [1., 1., 0., 0., 0., 0., 1., 1.],\n",
              "       [1., 1., 0., 0., 0., 0., 1., 1.],\n",
              "       [1., 1., 0., 0., 0., 0., 1., 1.],\n",
              "       [1., 1., 0., 0., 0., 0., 1., 1.]])"
            ]
          },
          "metadata": {
            "tags": []
          },
          "execution_count": 6
        }
      ]
    },
    {
      "cell_type": "code",
      "metadata": {
        "id": "HyFhTXNPNJhH"
      },
      "source": [
        "K = np.array([[1.0, -1.0]])"
      ],
      "execution_count": 7,
      "outputs": []
    },
    {
      "cell_type": "code",
      "metadata": {
        "id": "N-c53hOxNMOn",
        "outputId": "4e2fe6ab-b6da-4e40-ecfa-bf0c0d6848b9",
        "colab": {
          "base_uri": "https://localhost:8080/",
          "height": 121
        }
      },
      "source": [
        "Y = corr2d(X, K)\n",
        "Y"
      ],
      "execution_count": 8,
      "outputs": [
        {
          "output_type": "execute_result",
          "data": {
            "text/plain": [
              "array([[ 0.,  1.,  0.,  0.,  0., -1.,  0.],\n",
              "       [ 0.,  1.,  0.,  0.,  0., -1.,  0.],\n",
              "       [ 0.,  1.,  0.,  0.,  0., -1.,  0.],\n",
              "       [ 0.,  1.,  0.,  0.,  0., -1.,  0.],\n",
              "       [ 0.,  1.,  0.,  0.,  0., -1.,  0.],\n",
              "       [ 0.,  1.,  0.,  0.,  0., -1.,  0.]])"
            ]
          },
          "metadata": {
            "tags": []
          },
          "execution_count": 8
        }
      ]
    },
    {
      "cell_type": "code",
      "metadata": {
        "id": "anC4rcRuNPdE",
        "outputId": "7b34f28c-29ed-4082-90a9-fd221e6a7725",
        "colab": {
          "base_uri": "https://localhost:8080/",
          "height": 156
        }
      },
      "source": [
        "corr2d(X.T, K)"
      ],
      "execution_count": 9,
      "outputs": [
        {
          "output_type": "execute_result",
          "data": {
            "text/plain": [
              "array([[0., 0., 0., 0., 0.],\n",
              "       [0., 0., 0., 0., 0.],\n",
              "       [0., 0., 0., 0., 0.],\n",
              "       [0., 0., 0., 0., 0.],\n",
              "       [0., 0., 0., 0., 0.],\n",
              "       [0., 0., 0., 0., 0.],\n",
              "       [0., 0., 0., 0., 0.],\n",
              "       [0., 0., 0., 0., 0.]])"
            ]
          },
          "metadata": {
            "tags": []
          },
          "execution_count": 9
        }
      ]
    },
    {
      "cell_type": "code",
      "metadata": {
        "id": "_je1RDSPkCnF",
        "outputId": "dcc8bebd-e486-4788-c83d-019ce92b2014",
        "colab": {
          "base_uri": "https://localhost:8080/",
          "height": 104
        }
      },
      "source": [
        "# Construct a two-dimensional convolutional layer with 1 output channel and a\n",
        "# kernel of shape (1, 2). For the sake of simplicity, we ignore the bias here\n",
        "conv2d = nn.Conv2D(1, kernel_size=(1, 2), use_bias=False)\n",
        "conv2d.initialize()\n",
        "# The two-dimensional convolutional layer uses four-dimensional input and\n",
        "# output in the format of (example, channel, height, width), where the batch\n",
        "# size (number of examples in the batch) and the number of channels are both 1\n",
        "X = X.reshape(1, 1, 6, 8)\n",
        "Y = Y.reshape(1, 1, 6, 7)\n",
        "for i in range(10):\n",
        "  with autograd.record():\n",
        "    Y_hat = conv2d(X)\n",
        "    l = (Y_hat - Y) ** 2\n",
        "  l.backward()\n",
        "  # Update the kernel\n",
        "  conv2d.weight.data()[:] -= 3e-2 * conv2d.weight.grad()\n",
        "  if (i + 1) % 2 == 0:\n",
        "    print(f'batch {i + 1}, loss {float(l.sum()):.3f}')"
      ],
      "execution_count": 10,
      "outputs": [
        {
          "output_type": "stream",
          "text": [
            "batch 2, loss 4.949\n",
            "batch 4, loss 0.831\n",
            "batch 6, loss 0.140\n",
            "batch 8, loss 0.024\n",
            "batch 10, loss 0.004\n"
          ],
          "name": "stdout"
        }
      ]
    },
    {
      "cell_type": "code",
      "metadata": {
        "id": "LHHY3tfnlama",
        "outputId": "6dfc1b38-4023-4151-e9f2-c893e0e8c1f5",
        "colab": {
          "base_uri": "https://localhost:8080/",
          "height": 34
        }
      },
      "source": [
        "d2l.reshape(conv2d.weight.data(), (1, 2))"
      ],
      "execution_count": 11,
      "outputs": [
        {
          "output_type": "execute_result",
          "data": {
            "text/plain": [
              "array([[ 0.9895   , -0.9873705]])"
            ]
          },
          "metadata": {
            "tags": []
          },
          "execution_count": 11
        }
      ]
    },
    {
      "cell_type": "code",
      "metadata": {
        "id": "X9pUzfFglw38"
      },
      "source": [
        "# output shapes after convolution\n",
        "# input_shape = height * width | n_h * n_w\n",
        "# kernel_size = height * width | k_h * k_w\n",
        "\n",
        "# (n_h − k_h + 1) × (n_w − k_w + 1)"
      ],
      "execution_count": 12,
      "outputs": []
    },
    {
      "cell_type": "code",
      "metadata": {
        "id": "0_OUV78hmAoE"
      },
      "source": [
        "# convolution output shapes with padding\n",
        "# input_shape = height * width | n_h * n_w\n",
        "# kernel_size = height * width | k_h * k_w\n",
        "# padding_size = height * width | p_h * p_w\n",
        "\n",
        "# (n_h − k_h + p_h + 1) × (n_w − k_w + p_w + 1)."
      ],
      "execution_count": 13,
      "outputs": []
    },
    {
      "cell_type": "code",
      "metadata": {
        "id": "sJ1zPRTNnDeQ"
      },
      "source": [
        "# padding to keep the input shape, e.g. padding='same'"
      ],
      "execution_count": 14,
      "outputs": []
    },
    {
      "cell_type": "code",
      "metadata": {
        "id": "XtfPeLEnoKMb",
        "outputId": "40a4ce49-5873-4808-a666-ba87aed660be",
        "colab": {
          "base_uri": "https://localhost:8080/",
          "height": 34
        }
      },
      "source": [
        "from mxnet import np, npx\n",
        "from mxnet.gluon import nn\n",
        "npx.set_np()\n",
        "# For convenience, we define a function to calculate the convolutional layer.\n",
        "# This function initializes the convolutional layer weights and performs\n",
        "# corresponding dimensionality elevations and reductions on the input and\n",
        "# output\n",
        "def comp_conv2d(conv2d, X):\n",
        "  conv2d.initialize()\n",
        "  # Here (1, 1) indicates that the batch size and the number of channels\n",
        "  # are both 1\n",
        "  X = X.reshape((1, 1) + X.shape)\n",
        "  Y = conv2d(X)\n",
        "  # Exclude the first two dimensions that do not interest us: examples and\n",
        "  # channels\n",
        "  return Y.reshape(Y.shape[2:])\n",
        "# Note that here 1 row or column is padded on either side, so a total of 2\n",
        "# rows or columns are added\n",
        "conv2d = nn.Conv2D(1, kernel_size=3, padding=(1, 1))\n",
        "X = np.random.uniform(size=(8, 8))\n",
        "comp_conv2d(conv2d, X).shape"
      ],
      "execution_count": 15,
      "outputs": [
        {
          "output_type": "execute_result",
          "data": {
            "text/plain": [
              "(8, 8)"
            ]
          },
          "metadata": {
            "tags": []
          },
          "execution_count": 15
        }
      ]
    },
    {
      "cell_type": "code",
      "metadata": {
        "id": "scKFSMDMo_kR",
        "outputId": "69414bfd-fa15-46cd-c895-35f9fe8d9f96",
        "colab": {
          "base_uri": "https://localhost:8080/",
          "height": 34
        }
      },
      "source": [
        "# Here, we use a convolution kernel with a height of 5 and a width of 3. The\n",
        "# padding numbers on either side of the height and width are 2 and 1,\n",
        "# respectively\n",
        "conv2d = nn.Conv2D(1, kernel_size=(7, 3), padding=(3, 1))\n",
        "comp_conv2d(conv2d, X).shape"
      ],
      "execution_count": 16,
      "outputs": [
        {
          "output_type": "execute_result",
          "data": {
            "text/plain": [
              "(8, 8)"
            ]
          },
          "metadata": {
            "tags": []
          },
          "execution_count": 16
        }
      ]
    },
    {
      "cell_type": "code",
      "metadata": {
        "id": "GHof_XcqpIow"
      },
      "source": [
        "# convolution output shapes with padding and strides.\n",
        "# input_shape = height * width | n_h * n_w\n",
        "# kernel_size = height * width | k_h * k_w\n",
        "# padding_size = height * width | p_h * p_w\n",
        "# stride_size = height * width | s_h * s_w\n",
        "\n",
        "# ⌊(n_h − k_h + p_h + s_h )/s_h ⌋ × ⌊(n_w − k_w + p_w + s_w )/s_w ⌋.\n",
        "\n",
        "# then if p_h = k_h − 1 and p_w = k_w − 1\n",
        "# ⌊(n_h + s_h − 1)/s_h ⌋ × ⌊(n_w + s_w − 1)/s_w ⌋"
      ],
      "execution_count": 17,
      "outputs": []
    },
    {
      "cell_type": "code",
      "metadata": {
        "id": "At6KbnDirN1L",
        "outputId": "6cd22f71-0020-404c-cbff-92ba4af81797",
        "colab": {
          "base_uri": "https://localhost:8080/",
          "height": 34
        }
      },
      "source": [
        "print(X.shape)"
      ],
      "execution_count": 18,
      "outputs": [
        {
          "output_type": "stream",
          "text": [
            "(8, 8)\n"
          ],
          "name": "stdout"
        }
      ]
    },
    {
      "cell_type": "code",
      "metadata": {
        "id": "0S64mQ5FpqdO",
        "outputId": "5ceaa709-b7e1-4d20-9dfd-df84b0fd6ca5",
        "colab": {
          "base_uri": "https://localhost:8080/",
          "height": 34
        }
      },
      "source": [
        "conv2d = nn.Conv2D(1, kernel_size=3, padding=1, strides=2)\n",
        "comp_conv2d(conv2d, X).shape"
      ],
      "execution_count": 19,
      "outputs": [
        {
          "output_type": "execute_result",
          "data": {
            "text/plain": [
              "(4, 4)"
            ]
          },
          "metadata": {
            "tags": []
          },
          "execution_count": 19
        }
      ]
    },
    {
      "cell_type": "code",
      "metadata": {
        "id": "3iijNoJDqjcN",
        "outputId": "ee0a7fa8-937c-472d-ebc2-87fa3c7d8482",
        "colab": {
          "base_uri": "https://localhost:8080/",
          "height": 34
        }
      },
      "source": [
        "conv2d = nn.Conv2D(1, kernel_size=(3, 5), padding=(0, 1), strides=(3, 4))\n",
        "comp_conv2d(conv2d, X).shape"
      ],
      "execution_count": 20,
      "outputs": [
        {
          "output_type": "execute_result",
          "data": {
            "text/plain": [
              "(2, 2)"
            ]
          },
          "metadata": {
            "tags": []
          },
          "execution_count": 20
        }
      ]
    },
    {
      "cell_type": "code",
      "metadata": {
        "id": "xsixCDjcrfCF"
      },
      "source": [
        "# multi channel input: \n",
        "# we need a filter for each channel:\n",
        "# c_i × k_h × k_w,      e.g.    3 × 64 × 64"
      ],
      "execution_count": 21,
      "outputs": []
    },
    {
      "cell_type": "code",
      "metadata": {
        "id": "96aOQhgwsDJB"
      },
      "source": [
        "from d2l import mxnet as d2l\n",
        "from mxnet import np, npx\n",
        "npx.set_np()"
      ],
      "execution_count": 22,
      "outputs": []
    },
    {
      "cell_type": "code",
      "metadata": {
        "id": "ZRioMrgMsK88"
      },
      "source": [
        "def corr2d_multi_in(X, K):\n",
        "  # First, iterate through the 0th dimension (channel dimension) of `X` and\n",
        "  # `K`. Then, add them together\n",
        "  return sum(d2l.corr2d(x, k) for x, k in zip(X, K))"
      ],
      "execution_count": 23,
      "outputs": []
    },
    {
      "cell_type": "code",
      "metadata": {
        "id": "M78KFeMJsPIo",
        "outputId": "ac9ca611-1514-46cd-ac66-04a07cb1c693",
        "colab": {
          "base_uri": "https://localhost:8080/",
          "height": 86
        }
      },
      "source": [
        "X = np.array([[[0.0, 1.0, 2.0],\n",
        "               [3.0, 4.0, 5.0], \n",
        "               [6.0, 7.0, 8.0]],\n",
        "            [[1.0, 2.0, 3.0],\n",
        "             [4.0, 5.0, 6.0],\n",
        "             [7.0, 8.0, 9.0]]])\n",
        "print(X.shape)\n",
        "K = np.array([[[0.0, 1.0],\n",
        "               [2.0, 3.0]],\n",
        "               [[1.0, 2.0],\n",
        "                [3.0, 4.0]]])\n",
        "print(K.shape)\n",
        "corr2d_multi_in(X, K)"
      ],
      "execution_count": 24,
      "outputs": [
        {
          "output_type": "stream",
          "text": [
            "(2, 3, 3)\n",
            "(2, 2, 2)\n"
          ],
          "name": "stdout"
        },
        {
          "output_type": "execute_result",
          "data": {
            "text/plain": [
              "array([[ 56.,  72.],\n",
              "       [104., 120.]])"
            ]
          },
          "metadata": {
            "tags": []
          },
          "execution_count": 24
        }
      ]
    },
    {
      "cell_type": "code",
      "metadata": {
        "id": "egZmNci8shg_"
      },
      "source": [
        "def corr2d_multi_in_out(X, K):\n",
        "  # Iterate through the 0th dimension of `K`, and each time, perform\n",
        "  # cross-correlation operations with input `X`. All of the results are\n",
        "  # stacked together\n",
        "  return np.stack([corr2d_multi_in(X, k) for k in K], 0)"
      ],
      "execution_count": 25,
      "outputs": []
    },
    {
      "cell_type": "code",
      "metadata": {
        "id": "gjsAG9rLszM8",
        "outputId": "6507c7a0-a776-4e81-d664-2a83b4f26da1",
        "colab": {
          "base_uri": "https://localhost:8080/",
          "height": 34
        }
      },
      "source": [
        "K = np.stack((K, K + 1, K + 2), 0)\n",
        "K.shape"
      ],
      "execution_count": 26,
      "outputs": [
        {
          "output_type": "execute_result",
          "data": {
            "text/plain": [
              "(3, 2, 2, 2)"
            ]
          },
          "metadata": {
            "tags": []
          },
          "execution_count": 26
        }
      ]
    },
    {
      "cell_type": "code",
      "metadata": {
        "id": "Y8DFZKuOs4NQ",
        "outputId": "bf238ab0-eff3-496f-d25d-c366c31beb5f",
        "colab": {
          "base_uri": "https://localhost:8080/",
          "height": 156
        }
      },
      "source": [
        "corr2d_multi_in_out(X, K)"
      ],
      "execution_count": 27,
      "outputs": [
        {
          "output_type": "execute_result",
          "data": {
            "text/plain": [
              "array([[[ 56.,  72.],\n",
              "        [104., 120.]],\n",
              "\n",
              "       [[ 76., 100.],\n",
              "        [148., 172.]],\n",
              "\n",
              "       [[ 96., 128.],\n",
              "        [192., 224.]]])"
            ]
          },
          "metadata": {
            "tags": []
          },
          "execution_count": 27
        }
      ]
    }
  ]
}