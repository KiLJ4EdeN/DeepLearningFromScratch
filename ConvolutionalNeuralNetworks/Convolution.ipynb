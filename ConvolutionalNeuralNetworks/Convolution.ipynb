{
  "nbformat": 4,
  "nbformat_minor": 0,
  "metadata": {
    "colab": {
      "name": "Convolution.ipynb",
      "provenance": []
    },
    "kernelspec": {
      "name": "python3",
      "display_name": "Python 3"
    }
  },
  "cells": [
    {
      "cell_type": "code",
      "metadata": {
        "id": "UbR2uXCzLpKh"
      },
      "source": [
        "!pip install mxnet gluon d2l"
      ],
      "execution_count": null,
      "outputs": []
    },
    {
      "cell_type": "code",
      "metadata": {
        "id": "Cxc55iHJLxT2"
      },
      "source": [
        "from d2l import mxnet as d2l\n",
        "from mxnet import autograd, np, npx\n",
        "from mxnet.gluon import nn\n",
        "npx.set_np()"
      ],
      "execution_count": 1,
      "outputs": []
    },
    {
      "cell_type": "code",
      "metadata": {
        "id": "xUPDQyTXL985"
      },
      "source": [
        "def corr2d(X, K): #@save\n",
        "  \"\"\"Compute 2D cross-correlation.\"\"\"\n",
        "  h, w = K.shape\n",
        "  # Compute output shape\n",
        "  Y = np.zeros((X.shape[0] - h + 1, X.shape[1] - w + 1))\n",
        "  # loop over X and Y axes.\n",
        "  for i in range(Y.shape[0]):\n",
        "    for j in range(Y.shape[1]):\n",
        "      Y[i, j] = d2l.reduce_sum((X[i: i + h, j: j + w] * K))\n",
        "  return Y"
      ],
      "execution_count": 2,
      "outputs": []
    },
    {
      "cell_type": "code",
      "metadata": {
        "id": "sOWJ6ndjMLST",
        "outputId": "635e6cf2-e6b0-4436-df8b-7cbc533fe17a",
        "colab": {
          "base_uri": "https://localhost:8080/",
          "height": 52
        }
      },
      "source": [
        "X = np.array([[0.0, 1.0, 2.0],\n",
        "              [3.0, 4.0, 5.0],\n",
        "              [6.0, 7.0, 8.0]])\n",
        "K = np.array([[0.0, 1.0],\n",
        "              [2.0, 3.0]])\n",
        "corr2d(X, K)"
      ],
      "execution_count": 3,
      "outputs": [
        {
          "output_type": "execute_result",
          "data": {
            "text/plain": [
              "array([[19., 25.],\n",
              "       [37., 43.]])"
            ]
          },
          "metadata": {
            "tags": []
          },
          "execution_count": 3
        }
      ]
    },
    {
      "cell_type": "code",
      "metadata": {
        "id": "RDL0TB5VMYCH"
      },
      "source": [
        "class Conv2D(nn.Block):\n",
        "  def __init__(self, kernel_size, **kwargs):\n",
        "    super().__init__(**kwargs)\n",
        "    self.weight = self.params.get('weight', shape=kernel_size)\n",
        "    self.bias = self.params.get('bias', shape=(1,))\n",
        "  def forward(self, x):\n",
        "    return corr2d(x, self.weight.data()) + self.bias.data()"
      ],
      "execution_count": 4,
      "outputs": []
    },
    {
      "cell_type": "code",
      "metadata": {
        "id": "ewjdR0MiMlt4",
        "outputId": "ace10aa5-665e-46a6-fae6-9ffbd2f1dba6",
        "colab": {
          "base_uri": "https://localhost:8080/",
          "height": 121
        }
      },
      "source": [
        "# Edge Detection\n",
        "X = np.ones((6, 8))\n",
        "X[:, 2:6] = 0\n",
        "X"
      ],
      "execution_count": 5,
      "outputs": [
        {
          "output_type": "execute_result",
          "data": {
            "text/plain": [
              "array([[1., 1., 0., 0., 0., 0., 1., 1.],\n",
              "       [1., 1., 0., 0., 0., 0., 1., 1.],\n",
              "       [1., 1., 0., 0., 0., 0., 1., 1.],\n",
              "       [1., 1., 0., 0., 0., 0., 1., 1.],\n",
              "       [1., 1., 0., 0., 0., 0., 1., 1.],\n",
              "       [1., 1., 0., 0., 0., 0., 1., 1.]])"
            ]
          },
          "metadata": {
            "tags": []
          },
          "execution_count": 5
        }
      ]
    },
    {
      "cell_type": "code",
      "metadata": {
        "id": "HyFhTXNPNJhH"
      },
      "source": [
        "K = np.array([[1.0, -1.0]])"
      ],
      "execution_count": 6,
      "outputs": []
    },
    {
      "cell_type": "code",
      "metadata": {
        "id": "N-c53hOxNMOn",
        "outputId": "b2c2ec43-84e7-4121-d74b-406501c11a84",
        "colab": {
          "base_uri": "https://localhost:8080/",
          "height": 121
        }
      },
      "source": [
        "Y = corr2d(X, K)\n",
        "Y"
      ],
      "execution_count": 7,
      "outputs": [
        {
          "output_type": "execute_result",
          "data": {
            "text/plain": [
              "array([[ 0.,  1.,  0.,  0.,  0., -1.,  0.],\n",
              "       [ 0.,  1.,  0.,  0.,  0., -1.,  0.],\n",
              "       [ 0.,  1.,  0.,  0.,  0., -1.,  0.],\n",
              "       [ 0.,  1.,  0.,  0.,  0., -1.,  0.],\n",
              "       [ 0.,  1.,  0.,  0.,  0., -1.,  0.],\n",
              "       [ 0.,  1.,  0.,  0.,  0., -1.,  0.]])"
            ]
          },
          "metadata": {
            "tags": []
          },
          "execution_count": 7
        }
      ]
    },
    {
      "cell_type": "code",
      "metadata": {
        "id": "anC4rcRuNPdE",
        "outputId": "78ed00c7-3c05-4a6b-abe7-9d2da0dd6e64",
        "colab": {
          "base_uri": "https://localhost:8080/",
          "height": 156
        }
      },
      "source": [
        "corr2d(X.T, K)"
      ],
      "execution_count": 8,
      "outputs": [
        {
          "output_type": "execute_result",
          "data": {
            "text/plain": [
              "array([[0., 0., 0., 0., 0.],\n",
              "       [0., 0., 0., 0., 0.],\n",
              "       [0., 0., 0., 0., 0.],\n",
              "       [0., 0., 0., 0., 0.],\n",
              "       [0., 0., 0., 0., 0.],\n",
              "       [0., 0., 0., 0., 0.],\n",
              "       [0., 0., 0., 0., 0.],\n",
              "       [0., 0., 0., 0., 0.]])"
            ]
          },
          "metadata": {
            "tags": []
          },
          "execution_count": 8
        }
      ]
    }
  ]
}