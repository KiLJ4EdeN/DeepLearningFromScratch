{
  "nbformat": 4,
  "nbformat_minor": 0,
  "metadata": {
    "colab": {
      "name": "LinearNeuralNetworks.ipynb",
      "provenance": []
    },
    "kernelspec": {
      "name": "python3",
      "display_name": "Python 3"
    }
  },
  "cells": [
    {
      "cell_type": "code",
      "metadata": {
        "id": "lf7J0zzT20pC",
        "outputId": "028479aa-5564-486b-d38e-358232efb2ac",
        "colab": {
          "base_uri": "https://localhost:8080/",
          "height": 366
        }
      },
      "source": [
        "!pip install mxnet gluoncv"
      ],
      "execution_count": 1,
      "outputs": [
        {
          "output_type": "stream",
          "text": [
            "Requirement already satisfied: mxnet in /usr/local/lib/python3.6/dist-packages (1.7.0.post1)\n",
            "Requirement already satisfied: gluoncv in /usr/local/lib/python3.6/dist-packages (0.8.0)\n",
            "Requirement already satisfied: numpy<2.0.0,>1.16.0 in /usr/local/lib/python3.6/dist-packages (from mxnet) (1.18.5)\n",
            "Requirement already satisfied: graphviz<0.9.0,>=0.8.1 in /usr/local/lib/python3.6/dist-packages (from mxnet) (0.8.4)\n",
            "Requirement already satisfied: requests<3,>=2.20.0 in /usr/local/lib/python3.6/dist-packages (from mxnet) (2.23.0)\n",
            "Requirement already satisfied: portalocker in /usr/local/lib/python3.6/dist-packages (from gluoncv) (2.0.0)\n",
            "Requirement already satisfied: Pillow in /usr/local/lib/python3.6/dist-packages (from gluoncv) (7.0.0)\n",
            "Requirement already satisfied: tqdm in /usr/local/lib/python3.6/dist-packages (from gluoncv) (4.41.1)\n",
            "Requirement already satisfied: scipy in /usr/local/lib/python3.6/dist-packages (from gluoncv) (1.4.1)\n",
            "Requirement already satisfied: matplotlib in /usr/local/lib/python3.6/dist-packages (from gluoncv) (3.2.2)\n",
            "Requirement already satisfied: chardet<4,>=3.0.2 in /usr/local/lib/python3.6/dist-packages (from requests<3,>=2.20.0->mxnet) (3.0.4)\n",
            "Requirement already satisfied: idna<3,>=2.5 in /usr/local/lib/python3.6/dist-packages (from requests<3,>=2.20.0->mxnet) (2.10)\n",
            "Requirement already satisfied: certifi>=2017.4.17 in /usr/local/lib/python3.6/dist-packages (from requests<3,>=2.20.0->mxnet) (2020.6.20)\n",
            "Requirement already satisfied: urllib3!=1.25.0,!=1.25.1,<1.26,>=1.21.1 in /usr/local/lib/python3.6/dist-packages (from requests<3,>=2.20.0->mxnet) (1.24.3)\n",
            "Requirement already satisfied: python-dateutil>=2.1 in /usr/local/lib/python3.6/dist-packages (from matplotlib->gluoncv) (2.8.1)\n",
            "Requirement already satisfied: pyparsing!=2.0.4,!=2.1.2,!=2.1.6,>=2.0.1 in /usr/local/lib/python3.6/dist-packages (from matplotlib->gluoncv) (2.4.7)\n",
            "Requirement already satisfied: kiwisolver>=1.0.1 in /usr/local/lib/python3.6/dist-packages (from matplotlib->gluoncv) (1.2.0)\n",
            "Requirement already satisfied: cycler>=0.10 in /usr/local/lib/python3.6/dist-packages (from matplotlib->gluoncv) (0.10.0)\n",
            "Requirement already satisfied: six>=1.5 in /usr/local/lib/python3.6/dist-packages (from python-dateutil>=2.1->matplotlib->gluoncv) (1.15.0)\n"
          ],
          "name": "stdout"
        }
      ]
    },
    {
      "cell_type": "code",
      "metadata": {
        "id": "CvDMXzZh0A1_"
      },
      "source": [
        "# Linear Regression from scratch.\n",
        "import mxnet as mx\n",
        "from mxnet import autograd, np, npx\n",
        "import random\n",
        "npx.set_np()"
      ],
      "execution_count": 2,
      "outputs": []
    },
    {
      "cell_type": "code",
      "metadata": {
        "id": "JwE0HzU63EuH"
      },
      "source": [
        "def synthetic_data(w, b, num_examples):  #@save\n",
        "    \"\"\"Generate y = Xw + b + noise.\"\"\"\n",
        "    X = np.random.normal(0, 1, (num_examples, len(w)))\n",
        "    y = np.matmul(X, w) + b\n",
        "    y += np.random.normal(0, 0.01, y.shape)\n",
        "    return X, np.reshape(y, (-1, 1))"
      ],
      "execution_count": 3,
      "outputs": []
    },
    {
      "cell_type": "code",
      "metadata": {
        "id": "_V0frldE3zG0",
        "outputId": "2206e64c-80bf-4070-bbab-8d0219cd4da6",
        "colab": {
          "base_uri": "https://localhost:8080/",
          "height": 52
        }
      },
      "source": [
        "true_w = np.array([2, -3.4])\n",
        "true_b = 4.2\n",
        "features, labels = synthetic_data(true_w, true_b, 1000)\n",
        "print(features.shape)\n",
        "print(labels.shape)"
      ],
      "execution_count": 4,
      "outputs": [
        {
          "output_type": "stream",
          "text": [
            "(1000, 2)\n",
            "(1000, 1)\n"
          ],
          "name": "stdout"
        }
      ]
    },
    {
      "cell_type": "code",
      "metadata": {
        "id": "IMYDAalC33zE",
        "outputId": "3d1ae6fc-3045-45c4-d2b8-1377e7e20396",
        "colab": {
          "base_uri": "https://localhost:8080/",
          "height": 52
        }
      },
      "source": [
        "print('features:', features[0],'\\nlabel:', labels[0])"
      ],
      "execution_count": 5,
      "outputs": [
        {
          "output_type": "stream",
          "text": [
            "features: [2.2122064 1.1630787] \n",
            "label: [4.662078]\n"
          ],
          "name": "stdout"
        }
      ]
    },
    {
      "cell_type": "code",
      "metadata": {
        "id": "wURwyw4c4QgT",
        "outputId": "1472da7b-4c0d-4650-c403-f876a9a12645",
        "colab": {
          "base_uri": "https://localhost:8080/",
          "height": 265
        }
      },
      "source": [
        "import matplotlib.pyplot as plt\n",
        "\n",
        "# The semicolon is for displaying the plot only\n",
        "plt.scatter((features[:, 1]), (labels), 1);"
      ],
      "execution_count": 6,
      "outputs": [
        {
          "output_type": "display_data",
          "data": {
            "image/png": "[encoded data removed]",
            "text/plain": [
              "<Figure size 432x288 with 1 Axes>"
            ]
          },
          "metadata": {
            "tags": [],
            "needs_background": "light"
          }
        }
      ]
    },
    {
      "cell_type": "code",
      "metadata": {
        "id": "8Yiga04Q4esN"
      },
      "source": [
        "def data_iter(batch_size, features, labels):\n",
        "  # N = num samples.\n",
        "  num_examples = len(features)\n",
        "  indices = list(range(num_examples))\n",
        "\n",
        "  # The examples are read at random, in no particular order\n",
        "  random.shuffle(indices)\n",
        "  for i in range(0, num_examples, batch_size):\n",
        "    batch_indices = np.array(\n",
        "    indices[i: min(i + batch_size, num_examples)])\n",
        "    yield features[batch_indices], labels[batch_indices]"
      ],
      "execution_count": 7,
      "outputs": []
    },
    {
      "cell_type": "code",
      "metadata": {
        "id": "KuxCIzHe6iby",
        "outputId": "d9b59515-759d-40e9-c8c7-9a51ff4df118",
        "colab": {
          "base_uri": "https://localhost:8080/",
          "height": 34
        }
      },
      "source": [
        "batch_size = 10\n",
        "for X, y in data_iter(batch_size, features, labels):\n",
        "  print(X.shape, y.shape)\n",
        "  break"
      ],
      "execution_count": 8,
      "outputs": [
        {
          "output_type": "stream",
          "text": [
            "(10, 2) (10, 1)\n"
          ],
          "name": "stdout"
        }
      ]
    },
    {
      "cell_type": "code",
      "metadata": {
        "id": "PBYkULNE8_aY"
      },
      "source": [
        "w = np.random.normal(0, 0.01, (2, 1))\n",
        "b = np.zeros(1)\n",
        "w.attach_grad()\n",
        "b.attach_grad()"
      ],
      "execution_count": 9,
      "outputs": []
    },
    {
      "cell_type": "code",
      "metadata": {
        "id": "8uK0W7y_9Ikr"
      },
      "source": [
        "def linreg(X, w, b):\n",
        "  \"\"\"The linear regression model.\"\"\"\n",
        "  return np.dot(X, w) + b"
      ],
      "execution_count": 10,
      "outputs": []
    },
    {
      "cell_type": "code",
      "metadata": {
        "id": "x6beS-5J9csE"
      },
      "source": [
        "def squared_loss(y_hat, y):\n",
        "  \"\"\"Squared loss.\"\"\"\n",
        "  return (y_hat - y.reshape(y_hat.shape)) ** 2 / 2"
      ],
      "execution_count": 11,
      "outputs": []
    },
    {
      "cell_type": "code",
      "metadata": {
        "id": "aIy9axTH9kBi"
      },
      "source": [
        "def sgd(params, lr, batch_size): #@save\n",
        "  \"\"\"Minibatch stochastic gradient descent.\"\"\"\n",
        "  for param in params:\n",
        "    param[:] = param - lr * param.grad / batch_size"
      ],
      "execution_count": 12,
      "outputs": []
    },
    {
      "cell_type": "code",
      "metadata": {
        "id": "XpqDQ0Tx9_8T"
      },
      "source": [
        "lr = 0.03\n",
        "num_epochs = 3\n",
        "net = linreg\n",
        "loss = squared_loss"
      ],
      "execution_count": 13,
      "outputs": []
    },
    {
      "cell_type": "code",
      "metadata": {
        "id": "q7Xd5SXF-GHH",
        "outputId": "098d38c7-633e-4628-c622-c63aae91361a",
        "colab": {
          "base_uri": "https://localhost:8080/",
          "height": 69
        }
      },
      "source": [
        "for epoch in range(num_epochs):\n",
        "  for X, y in data_iter(batch_size, features, labels):\n",
        "    with autograd.record():\n",
        "      l = loss(net(X, w, b), y) # Minibatch loss in `X` and `y`\n",
        "    # Because `l` has a shape (`batch_size`, 1) and is not a scalar\n",
        "    # variable, the elements in `l` are added together to obtain a new\n",
        "    # variable, on which gradients with respect to [`w`, `b`] are computed\n",
        "    l.backward()\n",
        "    sgd([w, b], lr, batch_size) # Update parameters using their gradient\n",
        "  train_l = loss(net(features, w, b), labels)\n",
        "  print(f'epoch {epoch + 1}, loss {float(train_l.mean()):f}')"
      ],
      "execution_count": 14,
      "outputs": [
        {
          "output_type": "stream",
          "text": [
            "epoch 1, loss 0.025014\n",
            "epoch 2, loss 0.000086\n",
            "epoch 3, loss 0.000051\n"
          ],
          "name": "stdout"
        }
      ]
    },
    {
      "cell_type": "code",
      "metadata": {
        "id": "rZ19c2-a_M_G",
        "outputId": "718ed429-1dfe-4b65-ae0b-b9fd99f973be",
        "colab": {
          "base_uri": "https://localhost:8080/",
          "height": 52
        }
      },
      "source": [
        "print(f'error in estimating w: {true_w - w.reshape(true_w.shape)}')\n",
        "print(f'error in estimating b: {true_b - b}')"
      ],
      "execution_count": 15,
      "outputs": [
        {
          "output_type": "stream",
          "text": [
            "error in estimating w: [ 0.0005827  -0.00011063]\n",
            "error in estimating b: [0.00076723]\n"
          ],
          "name": "stdout"
        }
      ]
    },
    {
      "cell_type": "code",
      "metadata": {
        "id": "6Itjwq5rFAd3"
      },
      "source": [
        "# Linear Regression with gloun\n",
        "import mxnet as mx\n",
        "from mxnet import autograd, gluon, np, npx\n",
        "npx.set_np()"
      ],
      "execution_count": 16,
      "outputs": []
    },
    {
      "cell_type": "code",
      "metadata": {
        "id": "eeuc-WUMZJop",
        "outputId": "79038544-edc6-4fdb-e4b2-0c5ab055040d",
        "colab": {
          "base_uri": "https://localhost:8080/",
          "height": 52
        }
      },
      "source": [
        "true_w = np.array([2, -3.4])\n",
        "true_b = 4.2\n",
        "features, labels = synthetic_data(true_w, true_b, 1000)\n",
        "print(features.shape)\n",
        "print(labels.shape)"
      ],
      "execution_count": 17,
      "outputs": [
        {
          "output_type": "stream",
          "text": [
            "(1000, 2)\n",
            "(1000, 1)\n"
          ],
          "name": "stdout"
        }
      ]
    },
    {
      "cell_type": "code",
      "metadata": {
        "id": "4LdUtZLEZZI9"
      },
      "source": [
        "def load_array(data_arrays, batch_size, is_train=True): #@save\n",
        "  \"\"\"Construct a Gluon data iterator.\"\"\"\n",
        "  dataset = gluon.data.ArrayDataset(*data_arrays)\n",
        "  return gluon.data.DataLoader(dataset, batch_size, shuffle=is_train)"
      ],
      "execution_count": 18,
      "outputs": []
    },
    {
      "cell_type": "code",
      "metadata": {
        "id": "iKCu-a7RZc2X"
      },
      "source": [
        "batch_size = 10\n",
        "data_iter = load_array((features, labels), batch_size)"
      ],
      "execution_count": 19,
      "outputs": []
    },
    {
      "cell_type": "code",
      "metadata": {
        "id": "B9dlQBm8ZgeK",
        "outputId": "f5b3cfbb-e4e0-48de-9ada-c735c9751fab",
        "colab": {
          "base_uri": "https://localhost:8080/",
          "height": 346
        }
      },
      "source": [
        "# the result is an iterator\n",
        "next(iter(data_iter))"
      ],
      "execution_count": 20,
      "outputs": [
        {
          "output_type": "execute_result",
          "data": {
            "text/plain": [
              "[array([[ 0.73805815, -0.40662253],\n",
              "        [-1.0053293 ,  0.6025365 ],\n",
              "        [ 0.92937523, -1.9473807 ],\n",
              "        [ 1.1349536 , -0.59669524],\n",
              "        [-0.47798645, -0.2504528 ],\n",
              "        [-0.2952682 , -1.5392796 ],\n",
              "        [-1.0387986 , -1.450659  ],\n",
              "        [-0.90060335, -0.43511948],\n",
              "        [ 0.6525416 ,  0.22451855],\n",
              "        [-0.08192009, -0.7493096 ]]), array([[ 7.07397   ],\n",
              "        [ 0.13816382],\n",
              "        [12.664182  ],\n",
              "        [ 8.484783  ],\n",
              "        [ 4.085835  ],\n",
              "        [ 8.849043  ],\n",
              "        [ 7.0641456 ],\n",
              "        [ 3.8683429 ],\n",
              "        [ 4.743528  ],\n",
              "        [ 6.586482  ]])]"
            ]
          },
          "metadata": {
            "tags": []
          },
          "execution_count": 20
        }
      ]
    },
    {
      "cell_type": "code",
      "metadata": {
        "id": "NrF7WEk_ZqQV"
      },
      "source": [
        "# `nn` is an abbreviation for neural networks\n",
        "from mxnet.gluon import nn\n",
        "net = nn.Sequential()\n",
        "net.add(nn.Dense(1))"
      ],
      "execution_count": 21,
      "outputs": []
    },
    {
      "cell_type": "code",
      "metadata": {
        "id": "zlxqDpZhZyz1"
      },
      "source": [
        "from mxnet import init\n",
        "net.initialize(init.Normal(sigma=0.01))"
      ],
      "execution_count": 22,
      "outputs": []
    },
    {
      "cell_type": "code",
      "metadata": {
        "id": "VbG2gTXRZ4ok"
      },
      "source": [
        "loss = gluon.loss.L2Loss()"
      ],
      "execution_count": 23,
      "outputs": []
    },
    {
      "cell_type": "code",
      "metadata": {
        "id": "jxMYRjT3Z7Ji"
      },
      "source": [
        "from mxnet import gluon\n",
        "trainer = gluon.Trainer(net.collect_params(), 'sgd', {'learning_rate': 0.03})"
      ],
      "execution_count": 24,
      "outputs": []
    },
    {
      "cell_type": "code",
      "metadata": {
        "id": "WqAIwGf2Z9n1",
        "outputId": "d4f992d1-7bfc-4fef-d069-fb8e8cb3f427",
        "colab": {
          "base_uri": "https://localhost:8080/",
          "height": 69
        }
      },
      "source": [
        "num_epochs = 3\n",
        "for epoch in range(num_epochs):\n",
        "  for X, y in data_iter:\n",
        "    with autograd.record():\n",
        "      l = loss(net(X), y)\n",
        "    l.backward()\n",
        "    trainer.step(batch_size)\n",
        "  l = loss(net(features), labels)\n",
        "  print(f'epoch {epoch + 1}, loss {l.mean().asnumpy():f}')"
      ],
      "execution_count": 25,
      "outputs": [
        {
          "output_type": "stream",
          "text": [
            "epoch 1, loss 0.042368\n",
            "epoch 2, loss 0.000167\n",
            "epoch 3, loss 0.000050\n"
          ],
          "name": "stdout"
        }
      ]
    }
  ]
}